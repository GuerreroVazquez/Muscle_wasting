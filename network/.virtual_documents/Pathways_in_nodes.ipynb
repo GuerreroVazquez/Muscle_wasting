# Evaluate network patways
import json

full_graph = "/home/karen/Documents/GitHub/Muscle_wasting/network/Networks_CYJS(out)/pathway_n_tf_mirnas__tf_network_cutoff_0.cyjs"
f = open(full_graph)

# returns JSON object as 
# a dictionary
data = json.load(f)


pathway_list=[]
for node in data['elements']['nodes']:
    if 'pathways' in node['data']:
        p = node['data']['pathways']
        pathway_list.extend(p)
pathway_list


frequency_pathways = dict((i, pathway_list.count(i)) for i in pathway_list)





frequency_pathways = dict(sorted(frequency_pathways.items(), key=lambda item: item[1]))


import matplotlib.pylab as plt

x = frequency_pathways.keys()
y = frequency_pathways.values()
plt.figure(figsize=(20,6))
plt.xticks(rotation=90)

plt.plot(x, y)
plt.show()


for key, value in frequency_pathways.items():
    if value > 20:
        print(key, value)



