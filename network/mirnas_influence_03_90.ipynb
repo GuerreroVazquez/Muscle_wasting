{
 "cells": [
  {
   "cell_type": "code",
   "execution_count": 1,
   "id": "cb74c35d-9768-483e-94e0-2fbfb51ddebd",
   "metadata": {},
   "outputs": [],
   "source": [
    "import sys \n",
    "sys.path.append(\"/home/karen/Documents/GitHub/Muscle_wasting/network\")\n",
    "sys.path.append(\"/home/karen/Documents/GitHub/Muscle_wasting/database_analysis\")\n",
    "sys.path.append(\"/home/karen/Documents/GitHub/Muscle_wasting/venv/lib/python3.10/site-packages\")\n",
    "sys.path.append(\"/home/karen/Documents/GitHub/Muscle_wasting/venv/lib/python3.10/site-packages/networkx\")"
   ]
  },
  {
   "cell_type": "code",
   "execution_count": 2,
   "id": "2c9f9516-0836-4452-92dc-0d7acb3c5dd0",
   "metadata": {},
   "outputs": [
    {
     "name": "stdout",
     "output_type": "stream",
     "text": [
      "/home/karen/Documents/GitHub/Muscle_wasting\n"
     ]
    }
   ],
   "source": [
    "cd /home/karen/Documents/GitHub/Muscle_wasting"
   ]
  },
  {
   "cell_type": "markdown",
   "id": "ed1aedc3-0bca-4197-a8d8-4983c920f8c7",
   "metadata": {},
   "source": [
    "# Analyzing the relevance of the mirnas\n",
    "\n",
    "Now we saw with the filtered and whole network\n",
    "Let's get the mirnas from the relevant PR score and then evaluate them on the whole network"
   ]
  },
  {
   "cell_type": "code",
   "execution_count": 3,
   "id": "70ef7a8c-a5c6-4ed0-9668-683566d00f70",
   "metadata": {
    "scrolled": true
   },
   "outputs": [],
   "source": [
    "import walking_network as wn"
   ]
  },
  {
   "cell_type": "code",
   "execution_count": 4,
   "id": "343feedf-3eb4-45b2-8830-22c7b4da68a9",
   "metadata": {},
   "outputs": [],
   "source": [
    "import networkx as nx"
   ]
  },
  {
   "cell_type": "code",
   "execution_count": 5,
   "id": "76e2e1cc-8c5e-4e17-9340-58f588ab8cca",
   "metadata": {},
   "outputs": [],
   "source": [
    "import pandas as pd\n",
    "import numpy as np"
   ]
  },
  {
   "cell_type": "markdown",
   "id": "a2f9c6e1-e1fd-4b04-ae86-9eda8ebeb5e3",
   "metadata": {},
   "source": [
    "We are going to load a graph with the mirnas and with the cut of pagerank to only get relevant genes on the network, however we should do it for the full gone, since genes belonging to pathways may be discarted on this PR evaluation. "
   ]
  },
  {
   "cell_type": "code",
   "execution_count": 6,
   "id": "6a04f882-f2ec-4435-95fc-c0cb9ca77550",
   "metadata": {},
   "outputs": [],
   "source": [
    "whole_network = nx.read_gpickle(f\"network/Networks_pkl/pathway_n_tf_mirnas__tf_network_cutoff_0.pkl\")"
   ]
  },
  {
   "cell_type": "code",
   "execution_count": 7,
   "id": "b135eff6-2ed4-4c5b-9971-9dc7e0f070ff",
   "metadata": {},
   "outputs": [],
   "source": [
    "pr_network = nx.read_gpickle(f\"network/Networks_pkl/pathway_n_tf_mirnas__tf_network_cutoff_0.2.pkl\")"
   ]
  },
  {
   "cell_type": "code",
   "execution_count": 8,
   "id": "44e00dc7-3081-4c15-8fa7-ca6f7a082c62",
   "metadata": {},
   "outputs": [],
   "source": [
    "steps=5"
   ]
  },
  {
   "cell_type": "code",
   "execution_count": 9,
   "id": "59570f8e-24b1-4da4-b04a-97a41a626a50",
   "metadata": {},
   "outputs": [],
   "source": [
    "import matplotlib.pyplot as plt\n",
    "#nx.draw_networkx(network)\n",
    "#plt.show()"
   ]
  },
  {
   "cell_type": "code",
   "execution_count": 10,
   "id": "ee595462-aacf-44a9-b4ef-3c2a321dcdd3",
   "metadata": {},
   "outputs": [
    {
     "data": {
      "text/plain": [
       "13"
      ]
     },
     "execution_count": 10,
     "metadata": {},
     "output_type": "execute_result"
    }
   ],
   "source": [
    "miR_nodes = [node for node in pr_network.nodes if node.startswith('hsa-miR')]\n",
    "len(miR_nodes)"
   ]
  },
  {
   "cell_type": "code",
   "execution_count": 11,
   "id": "29dd0867-b26f-4aef-9253-475e2ea02e75",
   "metadata": {},
   "outputs": [],
   "source": [
    "mirPaths={}\n",
    "for mir in miR_nodes:\n",
    "    p = wn.get_pathways(graph=whole_network, mirna=mir, n_distance=steps, sample_size=10)\n",
    "    unique_set = set(tuple(lst) for lst in p)\n",
    "    \n",
    "    # Convert back to a list of lists\n",
    "    unique_list = [list(tpl) for tpl in unique_set]\n",
    "    mirPaths[mir]=unique_list\n"
   ]
  },
  {
   "cell_type": "code",
   "execution_count": 25,
   "id": "7823002f-c3fa-4524-bc28-1e946fc1ff68",
   "metadata": {},
   "outputs": [
    {
     "data": {
      "text/plain": [
       "{'hsa-miR-21-5p': [['hsa-miR-21-5p', 'EGLN1'],\n",
       "  ['hsa-miR-21-5p', 'SMAD7', 'MYC', 'CAMK2N1'],\n",
       "  ['hsa-miR-21-5p', 'PPIF'],\n",
       "  ['hsa-miR-21-5p', 'APAF1'],\n",
       "  ['hsa-miR-21-5p', 'TPM1'],\n",
       "  ['hsa-miR-21-5p', 'MSH2'],\n",
       "  ['hsa-miR-21-5p', 'LRRFIP1', 'RHOA'],\n",
       "  ['hsa-miR-21-5p', 'DNM1L']],\n",
       " 'hsa-miR-145-5p': [['hsa-miR-145-5p', 'STAT1', 'STAT1', 'PPIP5K2'],\n",
       "  ['hsa-miR-145-5p', 'STAT1', 'STAT1', 'IL1B'],\n",
       "  ['hsa-miR-145-5p', 'MUC1'],\n",
       "  ['hsa-miR-145-5p', 'EPAS1', 'GAPDH'],\n",
       "  ['hsa-miR-145-5p', 'SP7', 'SP7', 'hsa-miR-93-5p', 'VEGFA'],\n",
       "  ['hsa-miR-145-5p', 'E2F3', 'MAP3K5'],\n",
       "  ['hsa-miR-145-5p', 'VEGFA'],\n",
       "  ['hsa-miR-145-5p', 'EPAS1', 'EPAS1', 'PGR'],\n",
       "  ['hsa-miR-145-5p', 'STAT1', 'HMGB1']],\n",
       " 'hsa-miR-93-5p': [['hsa-miR-93-5p', 'VEGFA'], ['hsa-miR-93-5p', 'FOXO3']]}"
      ]
     },
     "execution_count": 25,
     "metadata": {},
     "output_type": "execute_result"
    }
   ],
   "source": [
    "mirPaths_2={}\n",
    "mirPaths_2['hsa-miR-21-5p']= mirPaths['hsa-miR-21-5p']\n",
    "mirPaths_2['hsa-miR-145-5p']= mirPaths['hsa-miR-145-5p']\n",
    "mirPaths_2['hsa-miR-93-5p']= mirPaths['hsa-miR-93-5p']\n",
    "mirPaths_2"
   ]
  },
  {
   "cell_type": "code",
   "execution_count": 26,
   "id": "4793c240-926a-4213-8052-7d50d75d2c82",
   "metadata": {},
   "outputs": [
    {
     "data": {
      "text/plain": [
       "<networkx.classes.digraph.DiGraph at 0x7f3ca0e18d50>"
      ]
     },
     "execution_count": 26,
     "metadata": {},
     "output_type": "execute_result"
    }
   ],
   "source": [
    "sub_graph= wn.join_paths(whole_network, mirPaths)\n",
    "sub_graph"
   ]
  },
  {
   "cell_type": "code",
   "execution_count": 12,
   "id": "85fc6561-a1a2-4eb7-8278-071c96f3e2ea",
   "metadata": {},
   "outputs": [],
   "source": [
    "sub_graph = wn.join_paths(whole_network, mirPaths)"
   ]
  },
  {
   "cell_type": "code",
   "execution_count": 34,
   "id": "eeef660a-f296-4063-84f1-6a92c3132986",
   "metadata": {},
   "outputs": [
    {
     "data": {
      "text/plain": [
       "NodeView(('PPIF', 'TPM1', 'HMGB1', 'hsa-miR-93-5p', 'MSH2', 'EGLN1', 'hsa-miR-21-5p', 'SP7', 'IL1B', 'LRRFIP1', 'STAT1', 'hsa-miR-145-5p', 'FOXO3', 'VEGFA', 'E2F3', 'CAMK2N1', 'MUC1', 'APAF1', 'RHOA', 'SMAD7', 'EPAS1', 'DNM1L', 'MYC', 'PGR', 'MAP3K5', 'GAPDH', 'PPIP5K2'))"
      ]
     },
     "execution_count": 34,
     "metadata": {},
     "output_type": "execute_result"
    }
   ],
   "source": [
    "sub_graph.nodes()"
   ]
  },
  {
   "cell_type": "code",
   "execution_count": 28,
   "id": "7f603028-03e5-490e-869d-91e5bacbedc9",
   "metadata": {},
   "outputs": [
    {
     "data": {
      "image/png": "[encoded data removed]",
      "text/plain": [
       "<Figure size 640x480 with 1 Axes>"
      ]
     },
     "metadata": {},
     "output_type": "display_data"
    }
   ],
   "source": [
    "nx.draw_networkx(sub_graph)\n",
    "plt.show()"
   ]
  },
  {
   "cell_type": "code",
   "execution_count": 30,
   "id": "fac9a633-17dc-4c6d-aaca-d427d2d1e044",
   "metadata": {},
   "outputs": [],
   "source": [
    "isolated_nodes = list(nx.isolates(sub_graph))"
   ]
  },
  {
   "cell_type": "code",
   "execution_count": null,
   "id": "77d2fbc0-f60d-4a9d-a848-d8c2bf8393c0",
   "metadata": {},
   "outputs": [],
   "source": []
  },
  {
   "cell_type": "code",
   "execution_count": 29,
   "id": "d79a7321-d906-40f9-b05b-8e4f3dfda2a7",
   "metadata": {},
   "outputs": [
    {
     "data": {
      "text/plain": [
       "True"
      ]
     },
     "execution_count": 29,
     "metadata": {},
     "output_type": "execute_result"
    }
   ],
   "source": [
    "nx.is_frozen(sub_graph)"
   ]
  },
  {
   "cell_type": "code",
   "execution_count": null,
   "id": "0e5228da-f73c-42ea-801e-f8e5149283a6",
   "metadata": {},
   "outputs": [],
   "source": []
  },
  {
   "cell_type": "code",
   "execution_count": 31,
   "id": "b58c3ac8-f806-4a41-ae79-d6e55edacc5b",
   "metadata": {},
   "outputs": [],
   "source": [
    "sub_network = sub_graph.copy()"
   ]
  },
  {
   "cell_type": "code",
   "execution_count": 32,
   "id": "7120ba67-d022-4915-91b2-51e3faff0bac",
   "metadata": {},
   "outputs": [],
   "source": [
    "sub_network.remove_nodes_from(isolated_nodes)\n"
   ]
  },
  {
   "cell_type": "code",
   "execution_count": 19,
   "id": "c9b26392-000b-4102-9004-5ef9c79ff007",
   "metadata": {},
   "outputs": [],
   "source": [
    "start_node = 'hsa-miR-21-5p'"
   ]
  },
  {
   "cell_type": "code",
   "execution_count": 22,
   "id": "97e6bdbe-7d33-4c47-a617-e503eae9b31d",
   "metadata": {},
   "outputs": [
    {
     "data": {
      "text/plain": [
       "'/home/karen/Documents/GitHub/Muscle_wasting'"
      ]
     },
     "execution_count": 22,
     "metadata": {},
     "output_type": "execute_result"
    }
   ],
   "source": [
    "pwd"
   ]
  },
  {
   "cell_type": "code",
   "execution_count": 33,
   "id": "1d16bb9e-ccca-43c6-9e03-ca86e3416c3d",
   "metadata": {},
   "outputs": [],
   "source": [
    "nx.write_gpickle(sub_network, 'network/sub_network_nodes_short.pkl')"
   ]
  },
  {
   "cell_type": "code",
   "execution_count": 20,
   "id": "462bfe4a-575d-464d-b256-f8b25d296cc0",
   "metadata": {},
   "outputs": [
    {
     "name": "stdout",
     "output_type": "stream",
     "text": [
      "hsa-miR-21-5p TPM1\n",
      "hsa-miR-21-5p LRRFIP1\n",
      "LRRFIP1 RHOA\n"
     ]
    },
    {
     "ename": "KeyError",
     "evalue": "'weight'",
     "output_type": "error",
     "traceback": [
      "\u001b[0;31m---------------------------------------------------------------------------\u001b[0m",
      "\u001b[0;31mKeyError\u001b[0m                                  Traceback (most recent call last)",
      "Cell \u001b[0;32mIn[20], line 1\u001b[0m\n\u001b[0;32m----> 1\u001b[0m node_values, node_marks, node_visited \u001b[38;5;241m=\u001b[39m  \u001b[43mwn\u001b[49m\u001b[38;5;241;43m.\u001b[39;49m\u001b[43mtraverse_and_update\u001b[49m\u001b[43m(\u001b[49m\u001b[43msub_network\u001b[49m\u001b[43m,\u001b[49m\u001b[43m \u001b[49m\u001b[43mstart_node\u001b[49m\u001b[43m)\u001b[49m\n",
      "File \u001b[0;32m~/Documents/GitHub/Muscle_wasting/network/walking_network.py:30\u001b[0m, in \u001b[0;36mtraverse_and_update\u001b[0;34m(graph, start_node)\u001b[0m\n\u001b[1;32m     26\u001b[0m             dfs(neighbor, new_product)\n\u001b[1;32m     29\u001b[0m \u001b[38;5;66;03m# Start DFS traversal from the start node\u001b[39;00m\n\u001b[0;32m---> 30\u001b[0m \u001b[43mdfs\u001b[49m\u001b[43m(\u001b[49m\u001b[43mstart_node\u001b[49m\u001b[43m,\u001b[49m\u001b[43m \u001b[49m\u001b[38;5;241;43m1\u001b[39;49m\u001b[43m)\u001b[49m\n\u001b[1;32m     32\u001b[0m \u001b[38;5;28;01mreturn\u001b[39;00m node_values, node_marks, node_visited\n",
      "File \u001b[0;32m~/Documents/GitHub/Muscle_wasting/network/walking_network.py:26\u001b[0m, in \u001b[0;36mtraverse_and_update.<locals>.dfs\u001b[0;34m(current_node, current_product)\u001b[0m\n\u001b[1;32m     24\u001b[0m     node_values[neighbor] \u001b[38;5;241m+\u001b[39m\u001b[38;5;241m=\u001b[39m new_product\n\u001b[1;32m     25\u001b[0m \u001b[38;5;28;01melse\u001b[39;00m:\n\u001b[0;32m---> 26\u001b[0m     \u001b[43mdfs\u001b[49m\u001b[43m(\u001b[49m\u001b[43mneighbor\u001b[49m\u001b[43m,\u001b[49m\u001b[43m \u001b[49m\u001b[43mnew_product\u001b[49m\u001b[43m)\u001b[49m\n",
      "File \u001b[0;32m~/Documents/GitHub/Muscle_wasting/network/walking_network.py:17\u001b[0m, in \u001b[0;36mtraverse_and_update.<locals>.dfs\u001b[0;34m(current_node, current_product)\u001b[0m\n\u001b[1;32m     15\u001b[0m \u001b[38;5;28;01mfor\u001b[39;00m neighbor \u001b[38;5;129;01min\u001b[39;00m graph\u001b[38;5;241m.\u001b[39msuccessors(current_node):\n\u001b[1;32m     16\u001b[0m     \u001b[38;5;28mprint\u001b[39m(current_node, neighbor)\n\u001b[0;32m---> 17\u001b[0m     weight \u001b[38;5;241m=\u001b[39m \u001b[43mgraph\u001b[49m\u001b[43m[\u001b[49m\u001b[43mcurrent_node\u001b[49m\u001b[43m]\u001b[49m\u001b[43m[\u001b[49m\u001b[43mneighbor\u001b[49m\u001b[43m]\u001b[49m\u001b[43m[\u001b[49m\u001b[38;5;124;43m'\u001b[39;49m\u001b[38;5;124;43mweight\u001b[39;49m\u001b[38;5;124;43m'\u001b[39;49m\u001b[43m]\u001b[49m\n\u001b[1;32m     18\u001b[0m     new_product \u001b[38;5;241m=\u001b[39m current_product \u001b[38;5;241m*\u001b[39m weight\n\u001b[1;32m     19\u001b[0m     node_visited[neighbor] \u001b[38;5;241m+\u001b[39m\u001b[38;5;241m=\u001b[39m \u001b[38;5;241m1\u001b[39m\n",
      "\u001b[0;31mKeyError\u001b[0m: 'weight'"
     ]
    }
   ],
   "source": [
    "node_values, node_marks, node_visited =  wn.traverse_and_update(sub_network, start_node)"
   ]
  },
  {
   "cell_type": "code",
   "execution_count": 26,
   "id": "7a3a2a3f-070e-4594-8663-814059a0469a",
   "metadata": {},
   "outputs": [
    {
     "data": {
      "text/plain": [
       "False"
      ]
     },
     "execution_count": 26,
     "metadata": {},
     "output_type": "execute_result"
    }
   ],
   "source": [
    "nx.is_frozen(sub_network)"
   ]
  },
  {
   "cell_type": "code",
   "execution_count": 37,
   "id": "2817710c-72c5-4a83-9590-66152a04fc3c",
   "metadata": {},
   "outputs": [],
   "source": [
    "mirInfluence={}\n",
    "for mir, path in mirPaths.items():\n",
    "    influence = wn.get_influence(whole_network, path)\n",
    "    mirInfluence[mir]=influence\n",
    "#mirInfluence"
   ]
  },
  {
   "cell_type": "code",
   "execution_count": 38,
   "id": "0ef093b7-43c3-4778-9b45-bf12d4b8b166",
   "metadata": {},
   "outputs": [],
   "source": [
    "mir_pathway_influence = {}\n",
    "for mir, influence_data in  mirInfluence.items():\n",
    "    pi = wn.evaluate_pathway_influence(influence_data)\n",
    "    mir_pathway_influence[mir]=pi\n",
    "\n",
    "mir_de_influence = {}\n",
    "for mir, influence_data in  mirInfluence.items():\n",
    "    pi = wn.evaluate_de_influence(influence_data)\n",
    "    mir_de_influence[mir]=pi\n"
   ]
  },
  {
   "cell_type": "code",
   "execution_count": 39,
   "id": "64cdfb6d-3f20-41cf-861b-ba4990eae8b9",
   "metadata": {
    "scrolled": true
   },
   "outputs": [
    {
     "data": {
      "text/html": [
       "<div>\n",
       "<style scoped>\n",
       "    .dataframe tbody tr th:only-of-type {\n",
       "        vertical-align: middle;\n",
       "    }\n",
       "\n",
       "    .dataframe tbody tr th {\n",
       "        vertical-align: top;\n",
       "    }\n",
       "\n",
       "    .dataframe thead th {\n",
       "        text-align: right;\n",
       "    }\n",
       "</style>\n",
       "<table border=\"1\" class=\"dataframe\">\n",
       "  <thead>\n",
       "    <tr style=\"text-align: right;\">\n",
       "      <th></th>\n",
       "      <th>ATP</th>\n",
       "      <th>MITOCHONDRI</th>\n",
       "      <th>RESPIRAT</th>\n",
       "      <th>METABOLI</th>\n",
       "      <th>OXIDATIVE_PHOSPHORYLATION</th>\n",
       "      <th>NONALCOHOLIC_FATTY_LIVER</th>\n",
       "      <th>MUSCLE</th>\n",
       "      <th>ELECTRON</th>\n",
       "      <th>Different_pathways</th>\n",
       "      <th>Total</th>\n",
       "      <th>participation</th>\n",
       "    </tr>\n",
       "  </thead>\n",
       "  <tbody>\n",
       "    <tr>\n",
       "      <th>hsa-miR-223</th>\n",
       "      <td>0</td>\n",
       "      <td>0</td>\n",
       "      <td>0</td>\n",
       "      <td>0</td>\n",
       "      <td>0</td>\n",
       "      <td>0</td>\n",
       "      <td>0</td>\n",
       "      <td>0</td>\n",
       "      <td>0</td>\n",
       "      <td>0</td>\n",
       "      <td>0</td>\n",
       "    </tr>\n",
       "    <tr>\n",
       "      <th>hsa-miR-21-5p</th>\n",
       "      <td>1</td>\n",
       "      <td>4</td>\n",
       "      <td>3</td>\n",
       "      <td>4</td>\n",
       "      <td>1</td>\n",
       "      <td>2</td>\n",
       "      <td>0</td>\n",
       "      <td>1</td>\n",
       "      <td>21</td>\n",
       "      <td>200</td>\n",
       "      <td>16</td>\n",
       "    </tr>\n",
       "    <tr>\n",
       "      <th>hsa-miR-210-3p</th>\n",
       "      <td>0</td>\n",
       "      <td>0</td>\n",
       "      <td>0</td>\n",
       "      <td>0</td>\n",
       "      <td>0</td>\n",
       "      <td>1</td>\n",
       "      <td>0</td>\n",
       "      <td>0</td>\n",
       "      <td>3</td>\n",
       "      <td>32</td>\n",
       "      <td>1</td>\n",
       "    </tr>\n",
       "    <tr>\n",
       "      <th>hsa-miR-122</th>\n",
       "      <td>0</td>\n",
       "      <td>0</td>\n",
       "      <td>0</td>\n",
       "      <td>0</td>\n",
       "      <td>0</td>\n",
       "      <td>0</td>\n",
       "      <td>0</td>\n",
       "      <td>0</td>\n",
       "      <td>0</td>\n",
       "      <td>0</td>\n",
       "      <td>0</td>\n",
       "    </tr>\n",
       "    <tr>\n",
       "      <th>hsa-miR-145-5p</th>\n",
       "      <td>0</td>\n",
       "      <td>0</td>\n",
       "      <td>0</td>\n",
       "      <td>2</td>\n",
       "      <td>0</td>\n",
       "      <td>0</td>\n",
       "      <td>1</td>\n",
       "      <td>0</td>\n",
       "      <td>8</td>\n",
       "      <td>136</td>\n",
       "      <td>3</td>\n",
       "    </tr>\n",
       "    <tr>\n",
       "      <th>hsa-miR-224-5p</th>\n",
       "      <td>0</td>\n",
       "      <td>0</td>\n",
       "      <td>0</td>\n",
       "      <td>0</td>\n",
       "      <td>0</td>\n",
       "      <td>1</td>\n",
       "      <td>0</td>\n",
       "      <td>0</td>\n",
       "      <td>2</td>\n",
       "      <td>16</td>\n",
       "      <td>1</td>\n",
       "    </tr>\n",
       "    <tr>\n",
       "      <th>hsa-miR-93-5p</th>\n",
       "      <td>0</td>\n",
       "      <td>1</td>\n",
       "      <td>0</td>\n",
       "      <td>0</td>\n",
       "      <td>0</td>\n",
       "      <td>0</td>\n",
       "      <td>0</td>\n",
       "      <td>0</td>\n",
       "      <td>2</td>\n",
       "      <td>16</td>\n",
       "      <td>1</td>\n",
       "    </tr>\n",
       "    <tr>\n",
       "      <th>hsa-miR-342</th>\n",
       "      <td>0</td>\n",
       "      <td>0</td>\n",
       "      <td>0</td>\n",
       "      <td>0</td>\n",
       "      <td>0</td>\n",
       "      <td>0</td>\n",
       "      <td>0</td>\n",
       "      <td>0</td>\n",
       "      <td>0</td>\n",
       "      <td>0</td>\n",
       "      <td>0</td>\n",
       "    </tr>\n",
       "    <tr>\n",
       "      <th>hsa-miR-221</th>\n",
       "      <td>0</td>\n",
       "      <td>0</td>\n",
       "      <td>0</td>\n",
       "      <td>0</td>\n",
       "      <td>0</td>\n",
       "      <td>0</td>\n",
       "      <td>0</td>\n",
       "      <td>0</td>\n",
       "      <td>0</td>\n",
       "      <td>0</td>\n",
       "      <td>0</td>\n",
       "    </tr>\n",
       "    <tr>\n",
       "      <th>hsa-miR-375</th>\n",
       "      <td>0</td>\n",
       "      <td>0</td>\n",
       "      <td>0</td>\n",
       "      <td>0</td>\n",
       "      <td>0</td>\n",
       "      <td>0</td>\n",
       "      <td>0</td>\n",
       "      <td>0</td>\n",
       "      <td>0</td>\n",
       "      <td>0</td>\n",
       "      <td>0</td>\n",
       "    </tr>\n",
       "    <tr>\n",
       "      <th>hsa-miR-17</th>\n",
       "      <td>0</td>\n",
       "      <td>0</td>\n",
       "      <td>0</td>\n",
       "      <td>0</td>\n",
       "      <td>0</td>\n",
       "      <td>0</td>\n",
       "      <td>0</td>\n",
       "      <td>0</td>\n",
       "      <td>0</td>\n",
       "      <td>0</td>\n",
       "      <td>0</td>\n",
       "    </tr>\n",
       "    <tr>\n",
       "      <th>hsa-miR-152</th>\n",
       "      <td>0</td>\n",
       "      <td>0</td>\n",
       "      <td>0</td>\n",
       "      <td>0</td>\n",
       "      <td>0</td>\n",
       "      <td>0</td>\n",
       "      <td>0</td>\n",
       "      <td>0</td>\n",
       "      <td>0</td>\n",
       "      <td>0</td>\n",
       "      <td>0</td>\n",
       "    </tr>\n",
       "    <tr>\n",
       "      <th>hsa-miR-143-3p</th>\n",
       "      <td>1</td>\n",
       "      <td>1</td>\n",
       "      <td>0</td>\n",
       "      <td>4</td>\n",
       "      <td>0</td>\n",
       "      <td>0</td>\n",
       "      <td>4</td>\n",
       "      <td>0</td>\n",
       "      <td>12</td>\n",
       "      <td>128</td>\n",
       "      <td>10</td>\n",
       "    </tr>\n",
       "  </tbody>\n",
       "</table>\n",
       "</div>"
      ],
      "text/plain": [
       "                ATP  MITOCHONDRI  RESPIRAT  METABOLI  \\\n",
       "hsa-miR-223       0            0         0         0   \n",
       "hsa-miR-21-5p     1            4         3         4   \n",
       "hsa-miR-210-3p    0            0         0         0   \n",
       "hsa-miR-122       0            0         0         0   \n",
       "hsa-miR-145-5p    0            0         0         2   \n",
       "hsa-miR-224-5p    0            0         0         0   \n",
       "hsa-miR-93-5p     0            1         0         0   \n",
       "hsa-miR-342       0            0         0         0   \n",
       "hsa-miR-221       0            0         0         0   \n",
       "hsa-miR-375       0            0         0         0   \n",
       "hsa-miR-17        0            0         0         0   \n",
       "hsa-miR-152       0            0         0         0   \n",
       "hsa-miR-143-3p    1            1         0         4   \n",
       "\n",
       "                OXIDATIVE_PHOSPHORYLATION  NONALCOHOLIC_FATTY_LIVER  MUSCLE  \\\n",
       "hsa-miR-223                             0                         0       0   \n",
       "hsa-miR-21-5p                           1                         2       0   \n",
       "hsa-miR-210-3p                          0                         1       0   \n",
       "hsa-miR-122                             0                         0       0   \n",
       "hsa-miR-145-5p                          0                         0       1   \n",
       "hsa-miR-224-5p                          0                         1       0   \n",
       "hsa-miR-93-5p                           0                         0       0   \n",
       "hsa-miR-342                             0                         0       0   \n",
       "hsa-miR-221                             0                         0       0   \n",
       "hsa-miR-375                             0                         0       0   \n",
       "hsa-miR-17                              0                         0       0   \n",
       "hsa-miR-152                             0                         0       0   \n",
       "hsa-miR-143-3p                          0                         0       4   \n",
       "\n",
       "                ELECTRON  Different_pathways  Total  participation  \n",
       "hsa-miR-223            0                   0      0              0  \n",
       "hsa-miR-21-5p          1                  21    200             16  \n",
       "hsa-miR-210-3p         0                   3     32              1  \n",
       "hsa-miR-122            0                   0      0              0  \n",
       "hsa-miR-145-5p         0                   8    136              3  \n",
       "hsa-miR-224-5p         0                   2     16              1  \n",
       "hsa-miR-93-5p          0                   2     16              1  \n",
       "hsa-miR-342            0                   0      0              0  \n",
       "hsa-miR-221            0                   0      0              0  \n",
       "hsa-miR-375            0                   0      0              0  \n",
       "hsa-miR-17             0                   0      0              0  \n",
       "hsa-miR-152            0                   0      0              0  \n",
       "hsa-miR-143-3p         0                  12    128             10  "
      ]
     },
     "execution_count": 39,
     "metadata": {},
     "output_type": "execute_result"
    }
   ],
   "source": [
    "mir_pathway_influence_df = pd.DataFrame(mir_pathway_influence).T\n",
    "#mir_pathway_influence_df = mir_pathway_influence_df.drop(columns=[\"Different_pathways\", \"Total\"])\n",
    "mir_pathway_influence_df['participation'] = mir_pathway_influence_df.drop(columns=[\"Different_pathways\", \"Total\"]).sum(axis=1)\n",
    "mir_pathway_influence_df"
   ]
  },
  {
   "cell_type": "code",
   "execution_count": 40,
   "id": "c2249202-b4e4-4749-9ef1-75b1abbe0c5a",
   "metadata": {},
   "outputs": [
    {
     "data": {
      "text/plain": [
       "0.46153846153846156"
      ]
     },
     "execution_count": 40,
     "metadata": {},
     "output_type": "execute_result"
    }
   ],
   "source": [
    "mean_influence  = mir_pathway_influence_df.loc[:, 'MITOCHONDRI'].mean()\n",
    "mean_influence"
   ]
  },
  {
   "cell_type": "code",
   "execution_count": 41,
   "id": "fcb97b47-aca9-4472-8b10-b7af7693788e",
   "metadata": {},
   "outputs": [],
   "source": [
    "mitocondrial_df = mir_pathway_influence_df[mir_pathway_influence_df['MITOCHONDRI']>mean_influence].sort_values('MITOCHONDRI', ascending=False)\n",
    "mitocondrial_df['Rate']=mir_pathway_influence_df['MITOCHONDRI']/mir_pathway_influence_df['participation']\n"
   ]
  },
  {
   "cell_type": "code",
   "execution_count": 42,
   "id": "f064f315-4dab-4a37-a38a-17a95109eb3f",
   "metadata": {},
   "outputs": [
    {
     "data": {
      "text/html": [
       "<div>\n",
       "<style scoped>\n",
       "    .dataframe tbody tr th:only-of-type {\n",
       "        vertical-align: middle;\n",
       "    }\n",
       "\n",
       "    .dataframe tbody tr th {\n",
       "        vertical-align: top;\n",
       "    }\n",
       "\n",
       "    .dataframe thead th {\n",
       "        text-align: right;\n",
       "    }\n",
       "</style>\n",
       "<table border=\"1\" class=\"dataframe\">\n",
       "  <thead>\n",
       "    <tr style=\"text-align: right;\">\n",
       "      <th></th>\n",
       "      <th>ATP</th>\n",
       "      <th>MITOCHONDRI</th>\n",
       "      <th>RESPIRAT</th>\n",
       "      <th>METABOLI</th>\n",
       "      <th>OXIDATIVE_PHOSPHORYLATION</th>\n",
       "      <th>NONALCOHOLIC_FATTY_LIVER</th>\n",
       "      <th>MUSCLE</th>\n",
       "      <th>ELECTRON</th>\n",
       "      <th>Different_pathways</th>\n",
       "      <th>Total</th>\n",
       "      <th>participation</th>\n",
       "      <th>Rate</th>\n",
       "    </tr>\n",
       "  </thead>\n",
       "  <tbody>\n",
       "    <tr>\n",
       "      <th>hsa-miR-93-5p</th>\n",
       "      <td>0</td>\n",
       "      <td>1</td>\n",
       "      <td>0</td>\n",
       "      <td>0</td>\n",
       "      <td>0</td>\n",
       "      <td>0</td>\n",
       "      <td>0</td>\n",
       "      <td>0</td>\n",
       "      <td>2</td>\n",
       "      <td>16</td>\n",
       "      <td>1</td>\n",
       "      <td>1.0</td>\n",
       "    </tr>\n",
       "  </tbody>\n",
       "</table>\n",
       "</div>"
      ],
      "text/plain": [
       "               ATP  MITOCHONDRI  RESPIRAT  METABOLI  \\\n",
       "hsa-miR-93-5p    0            1         0         0   \n",
       "\n",
       "               OXIDATIVE_PHOSPHORYLATION  NONALCOHOLIC_FATTY_LIVER  MUSCLE  \\\n",
       "hsa-miR-93-5p                          0                         0       0   \n",
       "\n",
       "               ELECTRON  Different_pathways  Total  participation  Rate  \n",
       "hsa-miR-93-5p         0                   2     16              1   1.0  "
      ]
     },
     "execution_count": 42,
     "metadata": {},
     "output_type": "execute_result"
    }
   ],
   "source": [
    "mitocondrial_df[mitocondrial_df['Different_pathways']<10].sort_values('MUSCLE',ascending=False)"
   ]
  },
  {
   "cell_type": "code",
   "execution_count": 43,
   "id": "8dde61e0-01c6-4522-933d-69875e050bf3",
   "metadata": {},
   "outputs": [],
   "source": [
    "mir_de_influence_df = pd.DataFrame(mir_de_influence).T\n"
   ]
  },
  {
   "cell_type": "code",
   "execution_count": 44,
   "id": "73595250-67e4-4b0d-8861-7fa9a42a1e15",
   "metadata": {},
   "outputs": [
    {
     "data": {
      "text/html": [
       "<div>\n",
       "<style scoped>\n",
       "    .dataframe tbody tr th:only-of-type {\n",
       "        vertical-align: middle;\n",
       "    }\n",
       "\n",
       "    .dataframe tbody tr th {\n",
       "        vertical-align: top;\n",
       "    }\n",
       "\n",
       "    .dataframe thead th {\n",
       "        text-align: right;\n",
       "    }\n",
       "</style>\n",
       "<table border=\"1\" class=\"dataframe\">\n",
       "  <thead>\n",
       "    <tr style=\"text-align: right;\">\n",
       "      <th></th>\n",
       "      <th>m_l</th>\n",
       "      <th>m_s</th>\n",
       "      <th>yo</th>\n",
       "      <th>ym</th>\n",
       "      <th>mo</th>\n",
       "    </tr>\n",
       "  </thead>\n",
       "  <tbody>\n",
       "    <tr>\n",
       "      <th>hsa-miR-21-5p</th>\n",
       "      <td>0</td>\n",
       "      <td>0</td>\n",
       "      <td>8</td>\n",
       "      <td>0</td>\n",
       "      <td>1</td>\n",
       "    </tr>\n",
       "    <tr>\n",
       "      <th>hsa-miR-210-3p</th>\n",
       "      <td>0</td>\n",
       "      <td>0</td>\n",
       "      <td>5</td>\n",
       "      <td>1</td>\n",
       "      <td>1</td>\n",
       "    </tr>\n",
       "    <tr>\n",
       "      <th>hsa-miR-145-5p</th>\n",
       "      <td>0</td>\n",
       "      <td>0</td>\n",
       "      <td>9</td>\n",
       "      <td>0</td>\n",
       "      <td>2</td>\n",
       "    </tr>\n",
       "    <tr>\n",
       "      <th>hsa-miR-224-5p</th>\n",
       "      <td>0</td>\n",
       "      <td>0</td>\n",
       "      <td>1</td>\n",
       "      <td>0</td>\n",
       "      <td>0</td>\n",
       "    </tr>\n",
       "    <tr>\n",
       "      <th>hsa-miR-93-5p</th>\n",
       "      <td>0</td>\n",
       "      <td>0</td>\n",
       "      <td>2</td>\n",
       "      <td>0</td>\n",
       "      <td>0</td>\n",
       "    </tr>\n",
       "    <tr>\n",
       "      <th>hsa-miR-375</th>\n",
       "      <td>0</td>\n",
       "      <td>0</td>\n",
       "      <td>1</td>\n",
       "      <td>0</td>\n",
       "      <td>0</td>\n",
       "    </tr>\n",
       "    <tr>\n",
       "      <th>hsa-miR-143-3p</th>\n",
       "      <td>0</td>\n",
       "      <td>0</td>\n",
       "      <td>7</td>\n",
       "      <td>1</td>\n",
       "      <td>1</td>\n",
       "    </tr>\n",
       "  </tbody>\n",
       "</table>\n",
       "</div>"
      ],
      "text/plain": [
       "                m_l  m_s  yo  ym  mo\n",
       "hsa-miR-21-5p     0    0   8   0   1\n",
       "hsa-miR-210-3p    0    0   5   1   1\n",
       "hsa-miR-145-5p    0    0   9   0   2\n",
       "hsa-miR-224-5p    0    0   1   0   0\n",
       "hsa-miR-93-5p     0    0   2   0   0\n",
       "hsa-miR-375       0    0   1   0   0\n",
       "hsa-miR-143-3p    0    0   7   1   1"
      ]
     },
     "execution_count": 44,
     "metadata": {},
     "output_type": "execute_result"
    }
   ],
   "source": [
    "mir_de_influence_df[mir_de_influence_df['yo']>0]"
   ]
  },
  {
   "cell_type": "code",
   "execution_count": 45,
   "id": "7533afa7-21bb-44de-b235-90b065dd742f",
   "metadata": {},
   "outputs": [
    {
     "data": {
      "text/html": [
       "<div>\n",
       "<style scoped>\n",
       "    .dataframe tbody tr th:only-of-type {\n",
       "        vertical-align: middle;\n",
       "    }\n",
       "\n",
       "    .dataframe tbody tr th {\n",
       "        vertical-align: top;\n",
       "    }\n",
       "\n",
       "    .dataframe thead th {\n",
       "        text-align: right;\n",
       "    }\n",
       "</style>\n",
       "<table border=\"1\" class=\"dataframe\">\n",
       "  <thead>\n",
       "    <tr style=\"text-align: right;\">\n",
       "      <th></th>\n",
       "      <th>m_l</th>\n",
       "      <th>m_s</th>\n",
       "      <th>yo</th>\n",
       "      <th>ym</th>\n",
       "      <th>mo</th>\n",
       "    </tr>\n",
       "  </thead>\n",
       "  <tbody>\n",
       "    <tr>\n",
       "      <th>hsa-miR-21-5p</th>\n",
       "      <td>0</td>\n",
       "      <td>0</td>\n",
       "      <td>8</td>\n",
       "      <td>0</td>\n",
       "      <td>1</td>\n",
       "    </tr>\n",
       "    <tr>\n",
       "      <th>hsa-miR-210-3p</th>\n",
       "      <td>0</td>\n",
       "      <td>0</td>\n",
       "      <td>5</td>\n",
       "      <td>1</td>\n",
       "      <td>1</td>\n",
       "    </tr>\n",
       "    <tr>\n",
       "      <th>hsa-miR-145-5p</th>\n",
       "      <td>0</td>\n",
       "      <td>0</td>\n",
       "      <td>9</td>\n",
       "      <td>0</td>\n",
       "      <td>2</td>\n",
       "    </tr>\n",
       "    <tr>\n",
       "      <th>hsa-miR-143-3p</th>\n",
       "      <td>0</td>\n",
       "      <td>0</td>\n",
       "      <td>7</td>\n",
       "      <td>1</td>\n",
       "      <td>1</td>\n",
       "    </tr>\n",
       "  </tbody>\n",
       "</table>\n",
       "</div>"
      ],
      "text/plain": [
       "                m_l  m_s  yo  ym  mo\n",
       "hsa-miR-21-5p     0    0   8   0   1\n",
       "hsa-miR-210-3p    0    0   5   1   1\n",
       "hsa-miR-145-5p    0    0   9   0   2\n",
       "hsa-miR-143-3p    0    0   7   1   1"
      ]
     },
     "execution_count": 45,
     "metadata": {},
     "output_type": "execute_result"
    }
   ],
   "source": [
    "mir_de_influence_df[mir_de_influence_df['mo']>0]"
   ]
  },
  {
   "cell_type": "code",
   "execution_count": 46,
   "id": "189c42b1-f385-4395-9b2e-6ac358a80c3c",
   "metadata": {},
   "outputs": [
    {
     "data": {
      "text/html": [
       "<div>\n",
       "<style scoped>\n",
       "    .dataframe tbody tr th:only-of-type {\n",
       "        vertical-align: middle;\n",
       "    }\n",
       "\n",
       "    .dataframe tbody tr th {\n",
       "        vertical-align: top;\n",
       "    }\n",
       "\n",
       "    .dataframe thead th {\n",
       "        text-align: right;\n",
       "    }\n",
       "</style>\n",
       "<table border=\"1\" class=\"dataframe\">\n",
       "  <thead>\n",
       "    <tr style=\"text-align: right;\">\n",
       "      <th></th>\n",
       "      <th>m_l</th>\n",
       "      <th>m_s</th>\n",
       "      <th>yo</th>\n",
       "      <th>ym</th>\n",
       "      <th>mo</th>\n",
       "    </tr>\n",
       "  </thead>\n",
       "  <tbody>\n",
       "    <tr>\n",
       "      <th>hsa-miR-21-5p</th>\n",
       "      <td>0</td>\n",
       "      <td>0</td>\n",
       "      <td>8</td>\n",
       "      <td>0</td>\n",
       "      <td>1</td>\n",
       "    </tr>\n",
       "    <tr>\n",
       "      <th>hsa-miR-210-3p</th>\n",
       "      <td>0</td>\n",
       "      <td>0</td>\n",
       "      <td>5</td>\n",
       "      <td>1</td>\n",
       "      <td>1</td>\n",
       "    </tr>\n",
       "    <tr>\n",
       "      <th>hsa-miR-145-5p</th>\n",
       "      <td>0</td>\n",
       "      <td>0</td>\n",
       "      <td>9</td>\n",
       "      <td>0</td>\n",
       "      <td>2</td>\n",
       "    </tr>\n",
       "    <tr>\n",
       "      <th>hsa-miR-224-5p</th>\n",
       "      <td>0</td>\n",
       "      <td>0</td>\n",
       "      <td>1</td>\n",
       "      <td>0</td>\n",
       "      <td>0</td>\n",
       "    </tr>\n",
       "    <tr>\n",
       "      <th>hsa-miR-93-5p</th>\n",
       "      <td>0</td>\n",
       "      <td>0</td>\n",
       "      <td>2</td>\n",
       "      <td>0</td>\n",
       "      <td>0</td>\n",
       "    </tr>\n",
       "    <tr>\n",
       "      <th>hsa-miR-375</th>\n",
       "      <td>0</td>\n",
       "      <td>0</td>\n",
       "      <td>1</td>\n",
       "      <td>0</td>\n",
       "      <td>0</td>\n",
       "    </tr>\n",
       "    <tr>\n",
       "      <th>hsa-miR-143-3p</th>\n",
       "      <td>0</td>\n",
       "      <td>0</td>\n",
       "      <td>7</td>\n",
       "      <td>1</td>\n",
       "      <td>1</td>\n",
       "    </tr>\n",
       "  </tbody>\n",
       "</table>\n",
       "</div>"
      ],
      "text/plain": [
       "                m_l  m_s  yo  ym  mo\n",
       "hsa-miR-21-5p     0    0   8   0   1\n",
       "hsa-miR-210-3p    0    0   5   1   1\n",
       "hsa-miR-145-5p    0    0   9   0   2\n",
       "hsa-miR-224-5p    0    0   1   0   0\n",
       "hsa-miR-93-5p     0    0   2   0   0\n",
       "hsa-miR-375       0    0   1   0   0\n",
       "hsa-miR-143-3p    0    0   7   1   1"
      ]
     },
     "execution_count": 46,
     "metadata": {},
     "output_type": "execute_result"
    }
   ],
   "source": [
    "mirs_all_infliences = mir_de_influence_df[(mir_de_influence_df['ym']>0)|(mir_de_influence_df['mo']>0)|(mir_de_influence_df['yo']>0)]\n",
    "mirs_all_infliences"
   ]
  },
  {
   "cell_type": "code",
   "execution_count": 47,
   "id": "39c9c5bb-7b54-4bf4-8d6a-221595ef2b89",
   "metadata": {},
   "outputs": [
    {
     "data": {
      "text/plain": [
       "7"
      ]
     },
     "execution_count": 47,
     "metadata": {},
     "output_type": "execute_result"
    }
   ],
   "source": [
    "sel_mirs_list = list(mirs_all_infliences.index)\n",
    "len(sel_mirs_list)"
   ]
  },
  {
   "cell_type": "code",
   "execution_count": 48,
   "id": "f4648ea2-8925-4641-9259-d3163549164e",
   "metadata": {},
   "outputs": [],
   "source": [
    "mir_pathway_influence_df_filteres = mir_pathway_influence_df[mir_pathway_influence_df.index.isin(sel_mirs_list)]"
   ]
  },
  {
   "cell_type": "code",
   "execution_count": 49,
   "id": "cf11b96f-0c71-4638-88bb-8d9059fe7e77",
   "metadata": {},
   "outputs": [
    {
     "data": {
      "text/html": [
       "<div>\n",
       "<style scoped>\n",
       "    .dataframe tbody tr th:only-of-type {\n",
       "        vertical-align: middle;\n",
       "    }\n",
       "\n",
       "    .dataframe tbody tr th {\n",
       "        vertical-align: top;\n",
       "    }\n",
       "\n",
       "    .dataframe thead th {\n",
       "        text-align: right;\n",
       "    }\n",
       "</style>\n",
       "<table border=\"1\" class=\"dataframe\">\n",
       "  <thead>\n",
       "    <tr style=\"text-align: right;\">\n",
       "      <th></th>\n",
       "      <th>ATP</th>\n",
       "      <th>MITOCHONDRI</th>\n",
       "      <th>RESPIRAT</th>\n",
       "      <th>METABOLI</th>\n",
       "      <th>OXIDATIVE_PHOSPHORYLATION</th>\n",
       "      <th>NONALCOHOLIC_FATTY_LIVER</th>\n",
       "      <th>MUSCLE</th>\n",
       "      <th>ELECTRON</th>\n",
       "      <th>Different_pathways</th>\n",
       "      <th>Total</th>\n",
       "      <th>participation</th>\n",
       "    </tr>\n",
       "  </thead>\n",
       "  <tbody>\n",
       "    <tr>\n",
       "      <th>hsa-miR-21-5p</th>\n",
       "      <td>1</td>\n",
       "      <td>4</td>\n",
       "      <td>3</td>\n",
       "      <td>4</td>\n",
       "      <td>1</td>\n",
       "      <td>2</td>\n",
       "      <td>0</td>\n",
       "      <td>1</td>\n",
       "      <td>21</td>\n",
       "      <td>200</td>\n",
       "      <td>16</td>\n",
       "    </tr>\n",
       "    <tr>\n",
       "      <th>hsa-miR-210-3p</th>\n",
       "      <td>0</td>\n",
       "      <td>0</td>\n",
       "      <td>0</td>\n",
       "      <td>0</td>\n",
       "      <td>0</td>\n",
       "      <td>1</td>\n",
       "      <td>0</td>\n",
       "      <td>0</td>\n",
       "      <td>3</td>\n",
       "      <td>32</td>\n",
       "      <td>1</td>\n",
       "    </tr>\n",
       "    <tr>\n",
       "      <th>hsa-miR-145-5p</th>\n",
       "      <td>0</td>\n",
       "      <td>0</td>\n",
       "      <td>0</td>\n",
       "      <td>2</td>\n",
       "      <td>0</td>\n",
       "      <td>0</td>\n",
       "      <td>1</td>\n",
       "      <td>0</td>\n",
       "      <td>8</td>\n",
       "      <td>136</td>\n",
       "      <td>3</td>\n",
       "    </tr>\n",
       "    <tr>\n",
       "      <th>hsa-miR-224-5p</th>\n",
       "      <td>0</td>\n",
       "      <td>0</td>\n",
       "      <td>0</td>\n",
       "      <td>0</td>\n",
       "      <td>0</td>\n",
       "      <td>1</td>\n",
       "      <td>0</td>\n",
       "      <td>0</td>\n",
       "      <td>2</td>\n",
       "      <td>16</td>\n",
       "      <td>1</td>\n",
       "    </tr>\n",
       "    <tr>\n",
       "      <th>hsa-miR-93-5p</th>\n",
       "      <td>0</td>\n",
       "      <td>1</td>\n",
       "      <td>0</td>\n",
       "      <td>0</td>\n",
       "      <td>0</td>\n",
       "      <td>0</td>\n",
       "      <td>0</td>\n",
       "      <td>0</td>\n",
       "      <td>2</td>\n",
       "      <td>16</td>\n",
       "      <td>1</td>\n",
       "    </tr>\n",
       "    <tr>\n",
       "      <th>hsa-miR-375</th>\n",
       "      <td>0</td>\n",
       "      <td>0</td>\n",
       "      <td>0</td>\n",
       "      <td>0</td>\n",
       "      <td>0</td>\n",
       "      <td>0</td>\n",
       "      <td>0</td>\n",
       "      <td>0</td>\n",
       "      <td>0</td>\n",
       "      <td>0</td>\n",
       "      <td>0</td>\n",
       "    </tr>\n",
       "    <tr>\n",
       "      <th>hsa-miR-143-3p</th>\n",
       "      <td>1</td>\n",
       "      <td>1</td>\n",
       "      <td>0</td>\n",
       "      <td>4</td>\n",
       "      <td>0</td>\n",
       "      <td>0</td>\n",
       "      <td>4</td>\n",
       "      <td>0</td>\n",
       "      <td>12</td>\n",
       "      <td>128</td>\n",
       "      <td>10</td>\n",
       "    </tr>\n",
       "  </tbody>\n",
       "</table>\n",
       "</div>"
      ],
      "text/plain": [
       "                ATP  MITOCHONDRI  RESPIRAT  METABOLI  \\\n",
       "hsa-miR-21-5p     1            4         3         4   \n",
       "hsa-miR-210-3p    0            0         0         0   \n",
       "hsa-miR-145-5p    0            0         0         2   \n",
       "hsa-miR-224-5p    0            0         0         0   \n",
       "hsa-miR-93-5p     0            1         0         0   \n",
       "hsa-miR-375       0            0         0         0   \n",
       "hsa-miR-143-3p    1            1         0         4   \n",
       "\n",
       "                OXIDATIVE_PHOSPHORYLATION  NONALCOHOLIC_FATTY_LIVER  MUSCLE  \\\n",
       "hsa-miR-21-5p                           1                         2       0   \n",
       "hsa-miR-210-3p                          0                         1       0   \n",
       "hsa-miR-145-5p                          0                         0       1   \n",
       "hsa-miR-224-5p                          0                         1       0   \n",
       "hsa-miR-93-5p                           0                         0       0   \n",
       "hsa-miR-375                             0                         0       0   \n",
       "hsa-miR-143-3p                          0                         0       4   \n",
       "\n",
       "                ELECTRON  Different_pathways  Total  participation  \n",
       "hsa-miR-21-5p          1                  21    200             16  \n",
       "hsa-miR-210-3p         0                   3     32              1  \n",
       "hsa-miR-145-5p         0                   8    136              3  \n",
       "hsa-miR-224-5p         0                   2     16              1  \n",
       "hsa-miR-93-5p          0                   2     16              1  \n",
       "hsa-miR-375            0                   0      0              0  \n",
       "hsa-miR-143-3p         0                  12    128             10  "
      ]
     },
     "execution_count": 49,
     "metadata": {},
     "output_type": "execute_result"
    }
   ],
   "source": [
    "mir_pathway_influence_df_filteres#[mir_pathway_influence_df_filteres['MUSCLE']>0].sort_values('MUSCLE')"
   ]
  },
  {
   "cell_type": "code",
   "execution_count": 50,
   "id": "f46094c4-76b3-48ea-85fe-5d4376d6860f",
   "metadata": {},
   "outputs": [
    {
     "data": {
      "text/plain": [
       "[['hsa-miR-21-5p', 'EGLN1'],\n",
       " ['hsa-miR-21-5p', 'APAF1'],\n",
       " ['hsa-miR-21-5p', 'SMAD7', 'E2F1', 'E2F1', 'PIN1'],\n",
       " ['hsa-miR-21-5p', 'PPIF'],\n",
       " ['hsa-miR-21-5p', 'DNM1L'],\n",
       " ['hsa-miR-21-5p', 'PPARA', 'BSG'],\n",
       " ['hsa-miR-21-5p', 'DAXX', 'NR3C1', 'AFP'],\n",
       " ['hsa-miR-21-5p', 'IL1B']]"
      ]
     },
     "execution_count": 50,
     "metadata": {},
     "output_type": "execute_result"
    }
   ],
   "source": [
    "mirPaths['hsa-miR-21-5p']"
   ]
  },
  {
   "cell_type": "code",
   "execution_count": 51,
   "id": "96d2d01c-8d36-43a8-8455-c0a92888fe4c",
   "metadata": {},
   "outputs": [
    {
     "data": {
      "text/plain": [
       "[['hsa-miR-93-5p', 'VEGFA'], ['hsa-miR-93-5p', 'FOXO3']]"
      ]
     },
     "execution_count": 51,
     "metadata": {},
     "output_type": "execute_result"
    }
   ],
   "source": [
    "mirPaths['hsa-miR-93-5p']"
   ]
  },
  {
   "cell_type": "code",
   "execution_count": 52,
   "id": "063e3279-6a62-485f-a720-d693a199f155",
   "metadata": {},
   "outputs": [
    {
     "data": {
      "text/plain": [
       "{'hsa-miR-223': [['hsa-miR-223']],\n",
       " 'hsa-miR-21-5p': [['hsa-miR-21-5p', 'EGLN1'],\n",
       "  ['hsa-miR-21-5p', 'APAF1'],\n",
       "  ['hsa-miR-21-5p', 'SMAD7', 'E2F1', 'E2F1', 'PIN1'],\n",
       "  ['hsa-miR-21-5p', 'PPIF'],\n",
       "  ['hsa-miR-21-5p', 'DNM1L'],\n",
       "  ['hsa-miR-21-5p', 'PPARA', 'BSG'],\n",
       "  ['hsa-miR-21-5p', 'DAXX', 'NR3C1', 'AFP'],\n",
       "  ['hsa-miR-21-5p', 'IL1B']],\n",
       " 'hsa-miR-210-3p': [['hsa-miR-210-3p', 'CASP8AP2'],\n",
       "  ['hsa-miR-210-3p', 'E2F3', 'MAP3K5'],\n",
       "  ['hsa-miR-210-3p', 'E2F3', 'VEGFA'],\n",
       "  ['hsa-miR-210-3p', 'E2F3', 'CUX1', 'CHD4', 'CD79A'],\n",
       "  ['hsa-miR-210-3p', 'E2F3', 'ATM']],\n",
       " 'hsa-miR-122': [['hsa-miR-122']],\n",
       " 'hsa-miR-145-5p': [['hsa-miR-145-5p', 'E2F3', 'E2F1', 'VEGFA'],\n",
       "  ['hsa-miR-145-5p', 'EPAS1', 'DDC'],\n",
       "  ['hsa-miR-145-5p', 'SP7', 'hsa-miR-93-5p', 'VEGFA'],\n",
       "  ['hsa-miR-145-5p', 'EPAS1', 'VEGFA'],\n",
       "  ['hsa-miR-145-5p', 'MYC', 'RPL6'],\n",
       "  ['hsa-miR-145-5p', 'E2F3', 'VEGFA'],\n",
       "  ['hsa-miR-145-5p', 'VEGFA'],\n",
       "  ['hsa-miR-145-5p', 'SP7', 'VEGFA'],\n",
       "  ['hsa-miR-145-5p', 'STAT1', 'SP7', 'VEGFA']],\n",
       " 'hsa-miR-224-5p': [['hsa-miR-224-5p', 'RAC1']],\n",
       " 'hsa-miR-93-5p': [['hsa-miR-93-5p', 'VEGFA'], ['hsa-miR-93-5p', 'FOXO3']],\n",
       " 'hsa-miR-342': [['hsa-miR-342']],\n",
       " 'hsa-miR-221': [['hsa-miR-221']],\n",
       " 'hsa-miR-375': [['hsa-miR-375', 'JAK2'],\n",
       "  ['hsa-miR-375', 'SP1'],\n",
       "  ['hsa-miR-375', 'PDK1'],\n",
       "  ['hsa-miR-375', 'MAP3K8'],\n",
       "  ['hsa-miR-375', 'PIK3CA'],\n",
       "  ['hsa-miR-375', 'IGF1R'],\n",
       "  ['hsa-miR-375', 'TP53']],\n",
       " 'hsa-miR-17': [['hsa-miR-17']],\n",
       " 'hsa-miR-152': [['hsa-miR-152']],\n",
       " 'hsa-miR-143-3p': [['hsa-miR-143-3p',\n",
       "   'DNMT3A',\n",
       "   'ASCL1',\n",
       "   'ASCL1',\n",
       "   'hsa-miR-375'],\n",
       "  ['hsa-miR-143-3p', 'DNMT3A', 'VEGFA'],\n",
       "  ['hsa-miR-143-3p', 'DNMT3A', 'DNMT3A', 'STAT4', 'MYC'],\n",
       "  ['hsa-miR-143-3p', 'DNMT3A', 'PDLIM7'],\n",
       "  ['hsa-miR-143-3p', 'DNMT3A', 'ASCL1', 'PKM'],\n",
       "  ['hsa-miR-143-3p', 'DNMT3A', 'DNMT3A', 'CDH6'],\n",
       "  ['hsa-miR-143-3p', 'DNMT3A', 'CDH6'],\n",
       "  ['hsa-miR-143-3p', 'DNMT3A', 'FATE1']]}"
      ]
     },
     "execution_count": 52,
     "metadata": {},
     "output_type": "execute_result"
    }
   ],
   "source": [
    "mirPaths"
   ]
  },
  {
   "cell_type": "code",
   "execution_count": null,
   "id": "95e0b040-0760-4c39-a632-532e729abbb3",
   "metadata": {},
   "outputs": [],
   "source": []
  }
 ],
 "metadata": {
  "kernelspec": {
   "display_name": "Python 3 (ipykernel)",
   "language": "python",
   "name": "python3"
  },
  "language_info": {
   "codemirror_mode": {
    "name": "ipython",
    "version": 3
   },
   "file_extension": ".py",
   "mimetype": "text/x-python",
   "name": "python",
   "nbconvert_exporter": "python",
   "pygments_lexer": "ipython3",
   "version": "3.11.7"
  }
 },
 "nbformat": 4,
 "nbformat_minor": 5
}
